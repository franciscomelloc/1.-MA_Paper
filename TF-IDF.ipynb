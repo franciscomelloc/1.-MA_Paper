{
 "cells": [
  {
   "cell_type": "markdown",
   "metadata": {},
   "source": [
    "# Jan 19 - English text preprocessing basics"
   ]
  },
  {
   "cell_type": "markdown",
   "metadata": {},
   "source": [
    "Unstructured text - text you find in the wild in books and websites - is generally not amenable to analysis. Before it can be analyzed, the text needs to be standardized to a format so that Python can recognize each unit of meaning (called a \"token\") as unique, no matter how many times it occurs and how it is stylized. \n",
    "\n",
    "* Remove punctuation and special characters/symbols\n",
    "* Remove stop words\n",
    "* Stem or lemmatize: convert all non-base words to their base form \n",
    "\n",
    "Stemming/lemmatization and stop words (and some punctuation) are language-specific. NLTK works for English out-of-the-box, but you'll need different code to work with other languages. Some languages (e.g. Chinese) also require *segmentation*: artificially inserting spaces between words. If you want to do text pre-processing for other languages, please let us know and we can put together a notebook for you."
   ]
  },
  {
   "cell_type": "code",
   "execution_count": 1,
   "metadata": {},
   "outputs": [],
   "source": [
    "from nltk.corpus import stopwords\n",
    "from nltk.stem import WordNetLemmatizer\n",
    "from string import punctuation\n",
    "import pandas as pd\n",
    "import seaborn as sns\n",
    "from collections import Counter\n",
    "import regex as re"
   ]
  },
  {
   "cell_type": "code",
   "execution_count": 2,
   "metadata": {},
   "outputs": [
    {
     "name": "stderr",
     "output_type": "stream",
     "text": [
      "[nltk_data] Downloading package words to\n",
      "[nltk_data]     C:\\Users\\Francisco\\AppData\\Roaming\\nltk_data...\n",
      "[nltk_data]   Package words is already up-to-date!\n",
      "[nltk_data] Downloading package stopwords to\n",
      "[nltk_data]     C:\\Users\\Francisco\\AppData\\Roaming\\nltk_data...\n",
      "[nltk_data]   Package stopwords is already up-to-date!\n",
      "[nltk_data] Downloading package wordnet to\n",
      "[nltk_data]     C:\\Users\\Francisco\\AppData\\Roaming\\nltk_data...\n",
      "[nltk_data]   Package wordnet is already up-to-date!\n",
      "[nltk_data] Downloading package averaged_perceptron_tagger to\n",
      "[nltk_data]     C:\\Users\\Francisco\\AppData\\Roaming\\nltk_data...\n",
      "[nltk_data]   Package averaged_perceptron_tagger is already up-to-\n",
      "[nltk_data]       date!\n",
      "[nltk_data] Downloading package maxent_ne_chunker to\n",
      "[nltk_data]     C:\\Users\\Francisco\\AppData\\Roaming\\nltk_data...\n",
      "[nltk_data]   Package maxent_ne_chunker is already up-to-date!\n"
     ]
    },
    {
     "data": {
      "text/plain": [
       "True"
      ]
     },
     "execution_count": 2,
     "metadata": {},
     "output_type": "execute_result"
    }
   ],
   "source": [
    "# ensure you have the proper nltk modules\n",
    "import nltk\n",
    "nltk.download('words')\n",
    "nltk.download('stopwords')\n",
    "nltk.download('wordnet')\n",
    "nltk.download('averaged_perceptron_tagger')\n",
    "nltk.download('maxent_ne_chunker')"
   ]
  },
  {
   "cell_type": "code",
   "execution_count": 3,
   "metadata": {},
   "outputs": [
    {
     "data": {
      "text/plain": [
       "'C:\\\\Users\\\\Francisco\\\\Desktop\\\\Python\\\\1. MA_Paper'"
      ]
     },
     "execution_count": 3,
     "metadata": {},
     "output_type": "execute_result"
    }
   ],
   "source": [
    "pwd"
   ]
  },
  {
   "cell_type": "code",
   "execution_count": 4,
   "metadata": {},
   "outputs": [],
   "source": [
    "#Corpus\n",
    "\n",
    "AM = open(r'C:\\Users\\Francisco\\Desktop\\Python\\1. MA_Paper\\1. Corpus\\\\AM-lemmatized.txt', encoding = 'utf-8').read()\n",
    "DF = open(r'C:\\Users\\Francisco\\Desktop\\Python\\1. MA_Paper\\1. Corpus\\\\DF-lemmatized.txt', encoding = 'utf-8').read()\n",
    "GO = open(r'C:\\Users\\Francisco\\Desktop\\Python\\1. MA_Paper\\1. Corpus\\\\GO-lemmatized.txt', encoding = 'utf-8').read()\n",
    "MG = open(r'C:\\Users\\Francisco\\Desktop\\Python\\1. MA_Paper\\1. Corpus\\\\MG-lemmatized.txt', encoding = 'utf-8').read()\n",
    "MT = open(r'C:\\Users\\Francisco\\Desktop\\Python\\1. MA_Paper\\1. Corpus\\\\MT-lemmatized.txt', encoding = 'utf-8').read()\n",
    "PA = open(r'C:\\Users\\Francisco\\Desktop\\Python\\1. MA_Paper\\1. Corpus\\\\PA-lemmatized.txt', encoding = 'utf-8').read()\n",
    "PE = open(r'C:\\Users\\Francisco\\Desktop\\Python\\1. MA_Paper\\1. Corpus\\\\PE-lemmatized.txt', encoding = 'utf-8').read()\n",
    "SC = open(r'C:\\Users\\Francisco\\Desktop\\Python\\1. MA_Paper\\1. Corpus\\\\SC-lemmatized.txt', encoding = 'utf-8').read()\n",
    "SP = open(r'C:\\Users\\Francisco\\Desktop\\Python\\1. MA_Paper\\1. Corpus\\\\SP-lemmatized.txt', encoding = 'utf-8').read()\n",
    "BNCC = open(r'C:\\Users\\Francisco\\Desktop\\Python\\1. MA_Paper\\1. Corpus\\\\BNCC-lemmatized.txt', encoding = 'utf-8').read() "
   ]
  },
  {
   "cell_type": "code",
   "execution_count": 5,
   "metadata": {},
   "outputs": [
    {
     "name": "stdout",
     "output_type": "stream",
     "text": [
      "APRESENTAÇ\n"
     ]
    }
   ],
   "source": [
    "text = AM + DF + GO + MG + MT + PA + PE + SC + SP\n",
    "#\n",
    "# print just the first 100 characters\n",
    "print(text[:10])"
   ]
  },
  {
   "cell_type": "code",
   "execution_count": 6,
   "metadata": {},
   "outputs": [],
   "source": [
    "corpusdf = pd.DataFrame([AM, DF, GO, MG, MT, PA, PE, SC, SP, BNCC])\n",
    "#"
   ]
  },
  {
   "cell_type": "code",
   "execution_count": 7,
   "metadata": {},
   "outputs": [],
   "source": [
    "estados = ['Amazonas', 'Distrito Federal', 'Goias', 'Minas Gerais', 'Mato Grosso', 'Parana', 'Pernambuco', 'Santa Catarina', 'Sao Paulo', 'BNCC']\n",
    "corpusdf['Estado'] = estados"
   ]
  },
  {
   "cell_type": "code",
   "execution_count": 8,
   "metadata": {},
   "outputs": [],
   "source": [
    "corpusdf = corpusdf.rename(columns={0 : 'Curricula'})"
   ]
  },
  {
   "cell_type": "code",
   "execution_count": 9,
   "metadata": {},
   "outputs": [],
   "source": [
    "names = corpusdf['Estado']\n",
    "descriptions = corpusdf['Curricula']"
   ]
  },
  {
   "cell_type": "markdown",
   "metadata": {},
   "source": [
    "# TF IDF"
   ]
  },
  {
   "cell_type": "code",
   "execution_count": 10,
   "metadata": {},
   "outputs": [],
   "source": [
    "import pandas as pd\n",
    "from sklearn.feature_extraction.text import TfidfVectorizer\n",
    "from sklearn.cluster import KMeans\n",
    "from sklearn.metrics import adjusted_rand_score\n",
    "import string\n",
    "from nltk.corpus import stopwords\n",
    "import json\n",
    "import glob\n",
    "import re"
   ]
  },
  {
   "cell_type": "code",
   "execution_count": 11,
   "metadata": {},
   "outputs": [],
   "source": [
    "import matplotlib.pyplot as plt\n",
    "from sklearn.decomposition import PCA"
   ]
  },
  {
   "cell_type": "code",
   "execution_count": 12,
   "metadata": {},
   "outputs": [],
   "source": [
    "stopw = stopwords.words(\"portuguese\")"
   ]
  },
  {
   "cell_type": "code",
   "execution_count": 13,
   "metadata": {},
   "outputs": [],
   "source": [
    "# This is not working, I don't understand why\n",
    "\n",
    "other_stops = ['ensino', 'mato grosso', 'Mato Grosso', 'ensino fundamental', 'ensino médio', 'acesso em', 'paulista', 'Minas Gerais', 'minas', 'Pernambuco', 'Distrito Federal', 'currículo referência', 'secretaria', 'de estado', 'Secretaria', 'de Estado', 'SECRETARIA DE', 'DE', 'Amazonas']"
   ]
  },
  {
   "cell_type": "code",
   "execution_count": 14,
   "metadata": {},
   "outputs": [],
   "source": [
    "stops = other_stops + stopw"
   ]
  },
  {
   "cell_type": "code",
   "execution_count": 15,
   "metadata": {},
   "outputs": [],
   "source": [
    "import string\n",
    "from nltk.corpus import stopwords\n",
    "import re\n",
    "\n",
    "def remove_stops(text, stops):\n",
    "    #All learning objectives have a code in the document. This removes that code: e.g. EM13CS20\n",
    "    text1 = re.sub(r\"[a-zA-Z][a-zA-Z]\\d\\d[aA-zZ][aA-zZ]\", \"\", text)\n",
    "    text2 = re.sub(r\"[a-zA-Z][a-zA-Z][a-zA-Z]\\d\\d[aA-zZ][aA-zZ]\", \"\", text1)\n",
    " \n",
    "    \n",
    "    #removes all stop words, including months\n",
    "    words = text2.split()\n",
    "    final = []\n",
    "    for word in words:\n",
    "        if word not in stops:\n",
    "            final.append(word)\n",
    "            \n",
    "    #reassembles the text without stop words\n",
    "    final = \" \".join(final)\n",
    "    \n",
    "    #removes all punctuation\n",
    "    final = final.translate(str.maketrans(\"\", \"\", string.punctuation))\n",
    "    \n",
    "    #removes all numbers\n",
    "    final = \"\".join([i for i in final if not i.isdigit()])\n",
    "    \n",
    "    #eliminates double white spaces\n",
    "    while \"  \" in final:\n",
    "        final = final.replace(\"  \", \" \")\n",
    "    return (final)\n",
    "\n",
    "def clean_docs(docs):\n",
    "       \n",
    "    #empty new list to store the cleaned docs\n",
    "    final = []\n",
    "    \n",
    "    #iterate over all docs and cleans them to be a\n",
    "    #single sentence with no unwanted words\n",
    "    for doc in docs:\n",
    "        clean_doc = remove_stops(doc, stops)\n",
    "        final.append(clean_doc)\n",
    "    \n",
    "    return(final)"
   ]
  },
  {
   "cell_type": "code",
   "execution_count": 16,
   "metadata": {},
   "outputs": [],
   "source": [
    "cleaned_docs = clean_docs(descriptions)"
   ]
  },
  {
   "cell_type": "code",
   "execution_count": 17,
   "metadata": {},
   "outputs": [],
   "source": [
    "filtered_sentence = [w for w in cleaned_docs if not w.lower() in stops]\n",
    " \n",
    "filtered_sentence = []\n",
    " \n",
    "for w in cleaned_docs:\n",
    "    if w not in stops:\n",
    "        filtered_sentence.append(w)"
   ]
  },
  {
   "cell_type": "code",
   "execution_count": 18,
   "metadata": {},
   "outputs": [],
   "source": [
    "cleaned_docs = filtered_sentence"
   ]
  },
  {
   "cell_type": "code",
   "execution_count": 19,
   "metadata": {},
   "outputs": [],
   "source": [
    "# A lot of this section comes from the Scikit Learn documentation and various blogs including the following:\n",
    "#https://towardsdatascience.com/applying-machine-learning-to-classify-an-unsupervised-text-document-e7bb6265f52\n",
    "from sklearn.feature_extraction.text import TfidfVectorizer\n",
    "from sklearn.cluster import KMeans"
   ]
  },
  {
   "cell_type": "markdown",
   "metadata": {},
   "source": [
    "## Setting up the parameters for the clustering"
   ]
  },
  {
   "cell_type": "code",
   "execution_count": 20,
   "metadata": {},
   "outputs": [],
   "source": [
    "vectorizer = TfidfVectorizer(lowercase=True, max_df = 6, min_df = 2, ngram_range = (2,2))"
   ]
  },
  {
   "cell_type": "code",
   "execution_count": 21,
   "metadata": {},
   "outputs": [],
   "source": [
    "vectors = vectorizer.fit_transform(cleaned_docs)"
   ]
  },
  {
   "cell_type": "code",
   "execution_count": 22,
   "metadata": {},
   "outputs": [
    {
     "data": {
      "text/html": [
       "<div>\n",
       "<style scoped>\n",
       "    .dataframe tbody tr th:only-of-type {\n",
       "        vertical-align: middle;\n",
       "    }\n",
       "\n",
       "    .dataframe tbody tr th {\n",
       "        vertical-align: top;\n",
       "    }\n",
       "\n",
       "    .dataframe thead th {\n",
       "        text-align: right;\n",
       "    }\n",
       "</style>\n",
       "<table border=\"1\" class=\"dataframe\">\n",
       "  <thead>\n",
       "    <tr style=\"text-align: right;\">\n",
       "      <th></th>\n",
       "      <th>abaixar apresentar</th>\n",
       "      <th>abaixar competência</th>\n",
       "      <th>abaixar médio</th>\n",
       "      <th>abaixar possibilidade</th>\n",
       "      <th>abaixar quadro</th>\n",
       "      <th>abaixo listado</th>\n",
       "      <th>abandonar escolar</th>\n",
       "      <th>abarcar aspecto</th>\n",
       "      <th>abarcar complexidade</th>\n",
       "      <th>abarcar múltiplo</th>\n",
       "      <th>...</th>\n",
       "      <th>único instituição</th>\n",
       "      <th>único modelar</th>\n",
       "      <th>único modo</th>\n",
       "      <th>único respostar</th>\n",
       "      <th>único saúde</th>\n",
       "      <th>único ser</th>\n",
       "      <th>único temer</th>\n",
       "      <th>único viés</th>\n",
       "      <th>útil análise</th>\n",
       "      <th>útil sistematização</th>\n",
       "    </tr>\n",
       "  </thead>\n",
       "  <tbody>\n",
       "    <tr>\n",
       "      <th>0</th>\n",
       "      <td>0.000000</td>\n",
       "      <td>0.000000</td>\n",
       "      <td>0.000000</td>\n",
       "      <td>0.000000</td>\n",
       "      <td>0.000000</td>\n",
       "      <td>0.000000</td>\n",
       "      <td>0.006502</td>\n",
       "      <td>0.000000</td>\n",
       "      <td>0.000000</td>\n",
       "      <td>0.000000</td>\n",
       "      <td>...</td>\n",
       "      <td>0.006502</td>\n",
       "      <td>0.000000</td>\n",
       "      <td>0.000000</td>\n",
       "      <td>0.000000</td>\n",
       "      <td>0.000000</td>\n",
       "      <td>0.006502</td>\n",
       "      <td>0.000000</td>\n",
       "      <td>0.000000</td>\n",
       "      <td>0.000000</td>\n",
       "      <td>0.006502</td>\n",
       "    </tr>\n",
       "    <tr>\n",
       "      <th>1</th>\n",
       "      <td>0.000000</td>\n",
       "      <td>0.000000</td>\n",
       "      <td>0.000000</td>\n",
       "      <td>0.000000</td>\n",
       "      <td>0.000000</td>\n",
       "      <td>0.000000</td>\n",
       "      <td>0.000000</td>\n",
       "      <td>0.000000</td>\n",
       "      <td>0.006580</td>\n",
       "      <td>0.000000</td>\n",
       "      <td>...</td>\n",
       "      <td>0.006580</td>\n",
       "      <td>0.000000</td>\n",
       "      <td>0.000000</td>\n",
       "      <td>0.000000</td>\n",
       "      <td>0.000000</td>\n",
       "      <td>0.000000</td>\n",
       "      <td>0.000000</td>\n",
       "      <td>0.000000</td>\n",
       "      <td>0.000000</td>\n",
       "      <td>0.000000</td>\n",
       "    </tr>\n",
       "    <tr>\n",
       "      <th>2</th>\n",
       "      <td>0.000000</td>\n",
       "      <td>0.000000</td>\n",
       "      <td>0.000000</td>\n",
       "      <td>0.000000</td>\n",
       "      <td>0.000000</td>\n",
       "      <td>0.000000</td>\n",
       "      <td>0.000000</td>\n",
       "      <td>0.000000</td>\n",
       "      <td>0.000000</td>\n",
       "      <td>0.000000</td>\n",
       "      <td>...</td>\n",
       "      <td>0.000000</td>\n",
       "      <td>0.000000</td>\n",
       "      <td>0.000000</td>\n",
       "      <td>0.000000</td>\n",
       "      <td>0.000000</td>\n",
       "      <td>0.000000</td>\n",
       "      <td>0.000000</td>\n",
       "      <td>0.000000</td>\n",
       "      <td>0.000000</td>\n",
       "      <td>0.000000</td>\n",
       "    </tr>\n",
       "    <tr>\n",
       "      <th>3</th>\n",
       "      <td>0.000000</td>\n",
       "      <td>0.000000</td>\n",
       "      <td>0.000000</td>\n",
       "      <td>0.000000</td>\n",
       "      <td>0.000000</td>\n",
       "      <td>0.000000</td>\n",
       "      <td>0.000000</td>\n",
       "      <td>0.000000</td>\n",
       "      <td>0.000000</td>\n",
       "      <td>0.000000</td>\n",
       "      <td>...</td>\n",
       "      <td>0.000000</td>\n",
       "      <td>0.000000</td>\n",
       "      <td>0.000000</td>\n",
       "      <td>0.001405</td>\n",
       "      <td>0.000000</td>\n",
       "      <td>0.000000</td>\n",
       "      <td>0.001405</td>\n",
       "      <td>0.000000</td>\n",
       "      <td>0.000000</td>\n",
       "      <td>0.000000</td>\n",
       "    </tr>\n",
       "    <tr>\n",
       "      <th>4</th>\n",
       "      <td>0.006134</td>\n",
       "      <td>0.004089</td>\n",
       "      <td>0.002045</td>\n",
       "      <td>0.002045</td>\n",
       "      <td>0.004089</td>\n",
       "      <td>0.000000</td>\n",
       "      <td>0.000000</td>\n",
       "      <td>0.002045</td>\n",
       "      <td>0.000000</td>\n",
       "      <td>0.002045</td>\n",
       "      <td>...</td>\n",
       "      <td>0.000000</td>\n",
       "      <td>0.002045</td>\n",
       "      <td>0.000000</td>\n",
       "      <td>0.002045</td>\n",
       "      <td>0.000000</td>\n",
       "      <td>0.004089</td>\n",
       "      <td>0.000000</td>\n",
       "      <td>0.002045</td>\n",
       "      <td>0.000000</td>\n",
       "      <td>0.004089</td>\n",
       "    </tr>\n",
       "    <tr>\n",
       "      <th>5</th>\n",
       "      <td>0.000000</td>\n",
       "      <td>0.000000</td>\n",
       "      <td>0.001959</td>\n",
       "      <td>0.001959</td>\n",
       "      <td>0.003919</td>\n",
       "      <td>0.001959</td>\n",
       "      <td>0.000000</td>\n",
       "      <td>0.000000</td>\n",
       "      <td>0.000000</td>\n",
       "      <td>0.001959</td>\n",
       "      <td>...</td>\n",
       "      <td>0.000000</td>\n",
       "      <td>0.000000</td>\n",
       "      <td>0.001714</td>\n",
       "      <td>0.000000</td>\n",
       "      <td>0.001714</td>\n",
       "      <td>0.000000</td>\n",
       "      <td>0.000000</td>\n",
       "      <td>0.003919</td>\n",
       "      <td>0.000000</td>\n",
       "      <td>0.000000</td>\n",
       "    </tr>\n",
       "    <tr>\n",
       "      <th>6</th>\n",
       "      <td>0.000000</td>\n",
       "      <td>0.000000</td>\n",
       "      <td>0.000000</td>\n",
       "      <td>0.000000</td>\n",
       "      <td>0.000000</td>\n",
       "      <td>0.000000</td>\n",
       "      <td>0.000000</td>\n",
       "      <td>0.001975</td>\n",
       "      <td>0.000000</td>\n",
       "      <td>0.000000</td>\n",
       "      <td>...</td>\n",
       "      <td>0.000000</td>\n",
       "      <td>0.001975</td>\n",
       "      <td>0.001728</td>\n",
       "      <td>0.000000</td>\n",
       "      <td>0.005184</td>\n",
       "      <td>0.000000</td>\n",
       "      <td>0.000000</td>\n",
       "      <td>0.000000</td>\n",
       "      <td>0.001975</td>\n",
       "      <td>0.000000</td>\n",
       "    </tr>\n",
       "    <tr>\n",
       "      <th>7</th>\n",
       "      <td>0.000781</td>\n",
       "      <td>0.000781</td>\n",
       "      <td>0.000000</td>\n",
       "      <td>0.000000</td>\n",
       "      <td>0.000000</td>\n",
       "      <td>0.000781</td>\n",
       "      <td>0.001562</td>\n",
       "      <td>0.000000</td>\n",
       "      <td>0.000781</td>\n",
       "      <td>0.000000</td>\n",
       "      <td>...</td>\n",
       "      <td>0.000000</td>\n",
       "      <td>0.000000</td>\n",
       "      <td>0.000683</td>\n",
       "      <td>0.000000</td>\n",
       "      <td>0.006832</td>\n",
       "      <td>0.000000</td>\n",
       "      <td>0.000781</td>\n",
       "      <td>0.000000</td>\n",
       "      <td>0.000781</td>\n",
       "      <td>0.000000</td>\n",
       "    </tr>\n",
       "    <tr>\n",
       "      <th>8</th>\n",
       "      <td>0.000000</td>\n",
       "      <td>0.000000</td>\n",
       "      <td>0.000000</td>\n",
       "      <td>0.000000</td>\n",
       "      <td>0.000000</td>\n",
       "      <td>0.000000</td>\n",
       "      <td>0.000000</td>\n",
       "      <td>0.000000</td>\n",
       "      <td>0.000000</td>\n",
       "      <td>0.000000</td>\n",
       "      <td>...</td>\n",
       "      <td>0.000000</td>\n",
       "      <td>0.000000</td>\n",
       "      <td>0.000000</td>\n",
       "      <td>0.000000</td>\n",
       "      <td>0.000000</td>\n",
       "      <td>0.000000</td>\n",
       "      <td>0.000000</td>\n",
       "      <td>0.000000</td>\n",
       "      <td>0.000000</td>\n",
       "      <td>0.000000</td>\n",
       "    </tr>\n",
       "    <tr>\n",
       "      <th>9</th>\n",
       "      <td>0.000000</td>\n",
       "      <td>0.000000</td>\n",
       "      <td>0.000000</td>\n",
       "      <td>0.000000</td>\n",
       "      <td>0.000000</td>\n",
       "      <td>0.000000</td>\n",
       "      <td>0.000000</td>\n",
       "      <td>0.000000</td>\n",
       "      <td>0.000000</td>\n",
       "      <td>0.000000</td>\n",
       "      <td>...</td>\n",
       "      <td>0.000000</td>\n",
       "      <td>0.000000</td>\n",
       "      <td>0.000000</td>\n",
       "      <td>0.000000</td>\n",
       "      <td>0.000000</td>\n",
       "      <td>0.000000</td>\n",
       "      <td>0.000000</td>\n",
       "      <td>0.000000</td>\n",
       "      <td>0.000000</td>\n",
       "      <td>0.000000</td>\n",
       "    </tr>\n",
       "  </tbody>\n",
       "</table>\n",
       "<p>10 rows × 51413 columns</p>\n",
       "</div>"
      ],
      "text/plain": [
       "   abaixar apresentar  abaixar competência  abaixar médio  \\\n",
       "0            0.000000             0.000000       0.000000   \n",
       "1            0.000000             0.000000       0.000000   \n",
       "2            0.000000             0.000000       0.000000   \n",
       "3            0.000000             0.000000       0.000000   \n",
       "4            0.006134             0.004089       0.002045   \n",
       "5            0.000000             0.000000       0.001959   \n",
       "6            0.000000             0.000000       0.000000   \n",
       "7            0.000781             0.000781       0.000000   \n",
       "8            0.000000             0.000000       0.000000   \n",
       "9            0.000000             0.000000       0.000000   \n",
       "\n",
       "   abaixar possibilidade  abaixar quadro  abaixo listado  abandonar escolar  \\\n",
       "0               0.000000        0.000000        0.000000           0.006502   \n",
       "1               0.000000        0.000000        0.000000           0.000000   \n",
       "2               0.000000        0.000000        0.000000           0.000000   \n",
       "3               0.000000        0.000000        0.000000           0.000000   \n",
       "4               0.002045        0.004089        0.000000           0.000000   \n",
       "5               0.001959        0.003919        0.001959           0.000000   \n",
       "6               0.000000        0.000000        0.000000           0.000000   \n",
       "7               0.000000        0.000000        0.000781           0.001562   \n",
       "8               0.000000        0.000000        0.000000           0.000000   \n",
       "9               0.000000        0.000000        0.000000           0.000000   \n",
       "\n",
       "   abarcar aspecto  abarcar complexidade  abarcar múltiplo  ...  \\\n",
       "0         0.000000              0.000000          0.000000  ...   \n",
       "1         0.000000              0.006580          0.000000  ...   \n",
       "2         0.000000              0.000000          0.000000  ...   \n",
       "3         0.000000              0.000000          0.000000  ...   \n",
       "4         0.002045              0.000000          0.002045  ...   \n",
       "5         0.000000              0.000000          0.001959  ...   \n",
       "6         0.001975              0.000000          0.000000  ...   \n",
       "7         0.000000              0.000781          0.000000  ...   \n",
       "8         0.000000              0.000000          0.000000  ...   \n",
       "9         0.000000              0.000000          0.000000  ...   \n",
       "\n",
       "   único instituição  único modelar  único modo  único respostar  único saúde  \\\n",
       "0           0.006502       0.000000    0.000000         0.000000     0.000000   \n",
       "1           0.006580       0.000000    0.000000         0.000000     0.000000   \n",
       "2           0.000000       0.000000    0.000000         0.000000     0.000000   \n",
       "3           0.000000       0.000000    0.000000         0.001405     0.000000   \n",
       "4           0.000000       0.002045    0.000000         0.002045     0.000000   \n",
       "5           0.000000       0.000000    0.001714         0.000000     0.001714   \n",
       "6           0.000000       0.001975    0.001728         0.000000     0.005184   \n",
       "7           0.000000       0.000000    0.000683         0.000000     0.006832   \n",
       "8           0.000000       0.000000    0.000000         0.000000     0.000000   \n",
       "9           0.000000       0.000000    0.000000         0.000000     0.000000   \n",
       "\n",
       "   único ser  único temer  único viés  útil análise  útil sistematização  \n",
       "0   0.006502     0.000000    0.000000      0.000000             0.006502  \n",
       "1   0.000000     0.000000    0.000000      0.000000             0.000000  \n",
       "2   0.000000     0.000000    0.000000      0.000000             0.000000  \n",
       "3   0.000000     0.001405    0.000000      0.000000             0.000000  \n",
       "4   0.004089     0.000000    0.002045      0.000000             0.004089  \n",
       "5   0.000000     0.000000    0.003919      0.000000             0.000000  \n",
       "6   0.000000     0.000000    0.000000      0.001975             0.000000  \n",
       "7   0.000000     0.000781    0.000000      0.000781             0.000000  \n",
       "8   0.000000     0.000000    0.000000      0.000000             0.000000  \n",
       "9   0.000000     0.000000    0.000000      0.000000             0.000000  \n",
       "\n",
       "[10 rows x 51413 columns]"
      ]
     },
     "execution_count": 22,
     "metadata": {},
     "output_type": "execute_result"
    }
   ],
   "source": [
    "tfidf_df = pd.DataFrame(vectors.todense(), columns = vectorizer.get_feature_names())\n",
    "tfidf_df"
   ]
  },
  {
   "cell_type": "code",
   "execution_count": 23,
   "metadata": {},
   "outputs": [
    {
     "data": {
      "text/plain": [
       "mato grosso                   0.779001\n",
       "minas gerais                  0.669756\n",
       "base ensino                   0.664758\n",
       "currículo referência          0.664293\n",
       "distrito federal              0.648201\n",
       "ano semestre                  0.643926\n",
       "currículo base                0.549314\n",
       "gêneros estudar               0.439293\n",
       "referência rede               0.401423\n",
       "santa catarina                0.325640\n",
       "eixos temáticos               0.277361\n",
       "carga horária                 0.233174\n",
       "oficial união                 0.223444\n",
       "união brasília                0.216673\n",
       "diário oficial                0.216673\n",
       "longo unidade                 0.215524\n",
       "pessoal individual            0.188572\n",
       "curricular avaliação          0.186134\n",
       "curricular ementa             0.185672\n",
       "texto atos                    0.171143\n",
       "campo jornalístico            0.164978\n",
       "posicionamento responsável    0.163364\n",
       "mundo ideologia               0.163364\n",
       "temer visão                   0.163364\n",
       "réplica posicionamento        0.159475\n",
       "semanal carga                 0.154785\n",
       "planos curso                  0.150118\n",
       "ideologia veicular            0.146710\n",
       "veicular texto                0.146710\n",
       "responsável temer             0.146710\n",
       "organizador curricular        0.146710\n",
       "campo artístico               0.146677\n",
       "atos linguagem                0.135787\n",
       "habilidades gerais            0.133233\n",
       "planejamento produção         0.132630\n",
       "horária anual                 0.131991\n",
       "docente matemática            0.128390\n",
       "apreciação avaliação          0.128358\n",
       "cultural réplica              0.126873\n",
       "elementos linguagem           0.126873\n",
       "perfil professor              0.125134\n",
       "habilidade unidade            0.122240\n",
       "portuguesa ensino             0.120634\n",
       "jornalístico midiático        0.119082\n",
       "político texto                0.118765\n",
       "trilha aprofundamento         0.118588\n",
       "referência língua             0.116856\n",
       "produção edição               0.113748\n",
       "avaliação aspecto             0.113683\n",
       "mediação cultural             0.112799\n",
       "dtype: float64"
      ]
     },
     "execution_count": 23,
     "metadata": {},
     "output_type": "execute_result"
    }
   ],
   "source": [
    "tfidf_df.max().sort_values(ascending = False).head(n = 50)"
   ]
  },
  {
   "cell_type": "code",
   "execution_count": 24,
   "metadata": {},
   "outputs": [],
   "source": [
    "feature_names = vectorizer.get_feature_names()"
   ]
  },
  {
   "cell_type": "code",
   "execution_count": 25,
   "metadata": {},
   "outputs": [],
   "source": [
    "dense = vectors.todense()"
   ]
  },
  {
   "cell_type": "code",
   "execution_count": 26,
   "metadata": {},
   "outputs": [],
   "source": [
    "denselist = dense.tolist()"
   ]
  },
  {
   "cell_type": "code",
   "execution_count": 27,
   "metadata": {},
   "outputs": [],
   "source": [
    "all_keywords = []\n",
    "for description in denselist:\n",
    "    x=0\n",
    "    keywords = []\n",
    "    for word in description:\n",
    "        if word > 0:\n",
    "            keywords.append(feature_names[x])\n",
    "        x=x+1\n",
    "    all_keywords.append(keywords)"
   ]
  },
  {
   "cell_type": "code",
   "execution_count": 28,
   "metadata": {},
   "outputs": [],
   "source": [
    "true_k = 3\n",
    "\n",
    "model = KMeans(n_clusters=true_k, init=\"k-means++\", max_iter=100, n_init=1)"
   ]
  },
  {
   "cell_type": "code",
   "execution_count": 29,
   "metadata": {},
   "outputs": [],
   "source": [
    "model.fit(vectors)\n",
    "\n",
    "order_centroids = model.cluster_centers_.argsort()[:, ::-1]\n",
    "terms = vectorizer.get_feature_names()"
   ]
  },
  {
   "cell_type": "code",
   "execution_count": 30,
   "metadata": {},
   "outputs": [
    {
     "name": "stdout",
     "output_type": "stream",
     "text": [
      "Cluster 0\n",
      "base ensino\n",
      "currículo base\n",
      "santa catarina\n",
      "carga horária\n",
      "oficial união\n",
      "diário oficial\n",
      "união brasília\n",
      "longo unidade\n",
      "curricular avaliação\n",
      "semanal carga\n",
      "\n",
      "Cluster 1\n",
      "mato grosso\n",
      "minas gerais\n",
      "currículo referência\n",
      "ano semestre\n",
      "texto atos\n",
      "organizador curricular\n",
      "atos linguagem\n",
      "temer visão\n",
      "mundo ideologia\n",
      "posicionamento responsável\n",
      "\n",
      "Cluster 2\n",
      "distrito federal\n",
      "currículo referência\n",
      "gêneros estudar\n",
      "referência rede\n",
      "eixos temáticos\n",
      "língua espanhola\n",
      "referência língua\n",
      "prática análise\n",
      "instituição educacional\n",
      "aprendizagem reconhecer\n",
      "\n"
     ]
    }
   ],
   "source": [
    "i = 0\n",
    "for cluster in order_centroids:\n",
    "    print (f\"Cluster {i}\")\n",
    "    for keyword in cluster[0:10]:\n",
    "        print (terms[keyword])\n",
    "    print (\"\")\n",
    "    i=i+1"
   ]
  },
  {
   "cell_type": "code",
   "execution_count": 31,
   "metadata": {},
   "outputs": [],
   "source": [
    "#A lot of this section was obtained from https://stackoverflow.com/questions/27494202/how-do-i-visualize-data-points-of-tf-idf-vectors-for-kmeans-clustering\n",
    "\n",
    "import matplotlib.pyplot as plt\n",
    "from sklearn.decomposition import PCA"
   ]
  },
  {
   "cell_type": "code",
   "execution_count": 32,
   "metadata": {},
   "outputs": [],
   "source": [
    "kmean_indices = model.fit_predict(vectors)\n",
    "\n",
    "pca = PCA(n_components=2)\n",
    "scatter_plot_points = pca.fit_transform(vectors.toarray())"
   ]
  },
  {
   "cell_type": "code",
   "execution_count": 33,
   "metadata": {},
   "outputs": [],
   "source": [
    "\n",
    "\n",
    "colors = [\"r\", \"b\", \"m\", \"y\", \"c\"]\n",
    "\n",
    "x_axis = [o[0] for o in scatter_plot_points]\n",
    "y_axis = [o[1] for o in scatter_plot_points]\n",
    "\n"
   ]
  },
  {
   "cell_type": "code",
   "execution_count": 34,
   "metadata": {},
   "outputs": [
    {
     "data": {
      "text/plain": [
       "<matplotlib.collections.PathCollection at 0x267a578f160>"
      ]
     },
     "execution_count": 34,
     "metadata": {},
     "output_type": "execute_result"
    },
    {
     "data": {
      "image/png": "[encoded data removed]",
      "text/plain": [
       "<Figure size 720x720 with 1 Axes>"
      ]
     },
     "metadata": {
      "needs_background": "light"
     },
     "output_type": "display_data"
    }
   ],
   "source": [
    "fig, ax = plt.subplots(figsize=(10, 10))\n",
    "ax.scatter(x_axis, y_axis, c=[colors[d] for d in kmean_indices])"
   ]
  },
  {
   "cell_type": "code",
   "execution_count": 35,
   "metadata": {},
   "outputs": [
    {
     "data": {
      "image/png": "[encoded data removed]",
      "text/plain": [
       "<Figure size 720x720 with 1 Axes>"
      ]
     },
     "metadata": {
      "needs_background": "light"
     },
     "output_type": "display_data"
    }
   ],
   "source": [
    "fig, ax = plt.subplots(figsize=(10, 10))\n",
    "ax.scatter(x_axis, y_axis, c=[colors[d] for d in kmean_indices])\n",
    "for i, txt in enumerate(names):\n",
    "    ax.annotate(txt, (x_axis[i], y_axis[i]))"
   ]
  }
 ],
 "metadata": {
  "kernelspec": {
   "display_name": "Python 3 (ipykernel)",
   "language": "python",
   "name": "python3"
  },
  "language_info": {
   "codemirror_mode": {
    "name": "ipython",
    "version": 3
   },
   "file_extension": ".py",
   "mimetype": "text/x-python",
   "name": "python",
   "nbconvert_exporter": "python",
   "pygments_lexer": "ipython3",
   "version": "3.9.7"
  },
  "widgets": {
   "application/vnd.jupyter.widget-state+json": {
    "state": {},
    "version_major": 2,
    "version_minor": 0
   }
  }
 },
 "nbformat": 4,
 "nbformat_minor": 4
}
