{
 "cells": [
  {
   "cell_type": "markdown",
   "metadata": {},
   "source": [
    "# Jan 19 - English text preprocessing basics"
   ]
  },
  {
   "cell_type": "markdown",
   "metadata": {},
   "source": [
    "Unstructured text - text you find in the wild in books and websites - is generally not amenable to analysis. Before it can be analyzed, the text needs to be standardized to a format so that Python can recognize each unit of meaning (called a \"token\") as unique, no matter how many times it occurs and how it is stylized. \n",
    "\n",
    "* Remove punctuation and special characters/symbols\n",
    "* Remove stop words\n",
    "* Stem or lemmatize: convert all non-base words to their base form \n",
    "\n",
    "Stemming/lemmatization and stop words (and some punctuation) are language-specific. NLTK works for English out-of-the-box, but you'll need different code to work with other languages. Some languages (e.g. Chinese) also require *segmentation*: artificially inserting spaces between words. If you want to do text pre-processing for other languages, please let us know and we can put together a notebook for you."
   ]
  },
  {
   "cell_type": "code",
   "execution_count": 1,
   "metadata": {},
   "outputs": [],
   "source": [
    "from nltk.corpus import stopwords\n",
    "from nltk.stem import WordNetLemmatizer\n",
    "from string import punctuation\n",
    "import pandas as pd\n",
    "import seaborn as sns\n",
    "from collections import Counter\n",
    "import regex as re"
   ]
  },
  {
   "cell_type": "code",
   "execution_count": 2,
   "metadata": {},
   "outputs": [
    {
     "name": "stderr",
     "output_type": "stream",
     "text": [
      "[nltk_data] Downloading package words to\n",
      "[nltk_data]     C:\\Users\\Francisco\\AppData\\Roaming\\nltk_data...\n",
      "[nltk_data]   Package words is already up-to-date!\n",
      "[nltk_data] Downloading package stopwords to\n",
      "[nltk_data]     C:\\Users\\Francisco\\AppData\\Roaming\\nltk_data...\n",
      "[nltk_data]   Package stopwords is already up-to-date!\n",
      "[nltk_data] Downloading package wordnet to\n",
      "[nltk_data]     C:\\Users\\Francisco\\AppData\\Roaming\\nltk_data...\n",
      "[nltk_data]   Package wordnet is already up-to-date!\n",
      "[nltk_data] Downloading package averaged_perceptron_tagger to\n",
      "[nltk_data]     C:\\Users\\Francisco\\AppData\\Roaming\\nltk_data...\n",
      "[nltk_data]   Package averaged_perceptron_tagger is already up-to-\n",
      "[nltk_data]       date!\n",
      "[nltk_data] Downloading package maxent_ne_chunker to\n",
      "[nltk_data]     C:\\Users\\Francisco\\AppData\\Roaming\\nltk_data...\n",
      "[nltk_data]   Package maxent_ne_chunker is already up-to-date!\n"
     ]
    },
    {
     "data": {
      "text/plain": [
       "True"
      ]
     },
     "execution_count": 2,
     "metadata": {},
     "output_type": "execute_result"
    }
   ],
   "source": [
    "# ensure you have the proper nltk modules\n",
    "import nltk\n",
    "nltk.download('words')\n",
    "nltk.download('stopwords')\n",
    "nltk.download('wordnet')\n",
    "nltk.download('averaged_perceptron_tagger')\n",
    "nltk.download('maxent_ne_chunker')"
   ]
  },
  {
   "cell_type": "code",
   "execution_count": 3,
   "metadata": {},
   "outputs": [
    {
     "data": {
      "text/plain": [
       "'C:\\\\Users\\\\Francisco\\\\Desktop\\\\Python\\\\FinalPaper'"
      ]
     },
     "execution_count": 3,
     "metadata": {},
     "output_type": "execute_result"
    }
   ],
   "source": [
    "pwd"
   ]
  },
  {
   "cell_type": "code",
   "execution_count": 4,
   "metadata": {},
   "outputs": [],
   "source": [
    "#Corpus\n",
    "\n",
    "AM = open(r'C:\\\\Users\\\\Francisco\\\\Desktop\\\\Python\\\\FinalPaper\\\\Analysis\\\\AM-lemmatized.txt', encoding = 'utf-8').read()\n",
    "DF = open(r'C:\\\\Users\\\\Francisco\\\\Desktop\\\\Python\\\\FinalPaper\\\\Analysis\\\\DF-lemmatized.txt', encoding = 'utf-8').read()\n",
    "GO = open(r'C:\\\\Users\\\\Francisco\\\\Desktop\\\\Python\\\\FinalPaper\\\\Analysis\\\\GO-lemmatized.txt', encoding = 'utf-8').read()\n",
    "MG = open(r'C:\\\\Users\\\\Francisco\\\\Desktop\\\\Python\\\\FinalPaper\\\\Analysis\\\\MG-lemmatized.txt', encoding = 'utf-8').read()\n",
    "MT = open(r'C:\\\\Users\\\\Francisco\\\\Desktop\\\\Python\\\\FinalPaper\\\\Analysis\\\\MT-lemmatized.txt', encoding = 'utf-8').read()\n",
    "PA = open(r'C:\\\\Users\\\\Francisco\\\\Desktop\\\\Python\\\\FinalPaper\\\\Analysis\\\\PA-lemmatized.txt', encoding = 'utf-8').read()\n",
    "PE = open(r'C:\\\\Users\\\\Francisco\\\\Desktop\\\\Python\\\\FinalPaper\\\\Analysis\\\\PE-lemmatized.txt', encoding = 'utf-8').read()\n",
    "SC = open(r'C:\\\\Users\\\\Francisco\\\\Desktop\\\\Python\\\\FinalPaper\\\\Analysis\\\\SC-lemmatized.txt', encoding = 'utf-8').read()\n",
    "SP = open(r'C:\\\\Users\\\\Francisco\\\\Desktop\\\\Python\\\\FinalPaper\\\\Analysis\\\\SP-lemmatized.txt', encoding = 'utf-8').read()\n",
    "BNCC = open(r'C:\\\\Users\\\\Francisco\\\\Desktop\\\\Python\\\\FinalPaper\\\\Analysis\\\\BNCC-lemmatized.txt', encoding = 'utf-8').read() "
   ]
  },
  {
   "cell_type": "code",
   "execution_count": 5,
   "metadata": {},
   "outputs": [
    {
     "name": "stdout",
     "output_type": "stream",
     "text": [
      "APRESENTAÇÃO Ensino Médio trajetória apresentar resultar corresponder satisfatoriamente etapa ensina\n"
     ]
    }
   ],
   "source": [
    "text = AM + DF + GO + MG + MT + PA + PE + SC + SP\n",
    "#\n",
    "# print just the first 100 characters\n",
    "print(text[:100])"
   ]
  },
  {
   "cell_type": "code",
   "execution_count": 6,
   "metadata": {},
   "outputs": [],
   "source": [
    "corpusdf = pd.DataFrame([AM, DF, GO, MG, MT, PA, PE, SC, SP, BNCC])\n",
    "#"
   ]
  },
  {
   "cell_type": "code",
   "execution_count": 7,
   "metadata": {},
   "outputs": [],
   "source": [
    "estados = ['Amazonas', 'Distrito Federal', 'Goias', 'Minas Gerais', 'Mato Grosso', 'Parana', 'Pernambuco', 'Santa Catarina', 'Sao Paulo', 'BNCC']\n",
    "corpusdf['Estado'] = estados"
   ]
  },
  {
   "cell_type": "code",
   "execution_count": 8,
   "metadata": {},
   "outputs": [],
   "source": [
    "corpusdf = corpusdf.rename(columns={0 : 'Curricula'})"
   ]
  },
  {
   "cell_type": "code",
   "execution_count": 9,
   "metadata": {},
   "outputs": [],
   "source": [
    "names = corpusdf['Estado']\n",
    "descriptions = corpusdf['Curricula']"
   ]
  },
  {
   "cell_type": "markdown",
   "metadata": {},
   "source": [
    "# TF IDF"
   ]
  },
  {
   "cell_type": "code",
   "execution_count": 10,
   "metadata": {},
   "outputs": [],
   "source": [
    "import pandas as pd\n",
    "from sklearn.feature_extraction.text import TfidfVectorizer\n",
    "from sklearn.cluster import KMeans\n",
    "from sklearn.metrics import adjusted_rand_score\n",
    "import string\n",
    "from nltk.corpus import stopwords\n",
    "import json\n",
    "import glob\n",
    "import re"
   ]
  },
  {
   "cell_type": "code",
   "execution_count": 11,
   "metadata": {},
   "outputs": [],
   "source": [
    "import matplotlib.pyplot as plt\n",
    "from sklearn.decomposition import PCA"
   ]
  },
  {
   "cell_type": "code",
   "execution_count": 12,
   "metadata": {},
   "outputs": [],
   "source": [
    "stopw = stopwords.words(\"portuguese\")"
   ]
  },
  {
   "cell_type": "code",
   "execution_count": 13,
   "metadata": {},
   "outputs": [],
   "source": [
    "other_stops = ['ensino', 'mato grosso', 'Mato Grosso', 'ensino fundamental', 'ensino médio', 'acesso em', 'paulista', 'Minas Gerais', 'minas', 'Pernambuco', 'Distrito Federal', 'currículo referência', 'secretaria', 'de estado', 'Secretaria', 'de Estado', 'SECRETARIA DE', 'DE', 'Amazonas']"
   ]
  },
  {
   "cell_type": "code",
   "execution_count": 14,
   "metadata": {},
   "outputs": [],
   "source": [
    "stops = other_stops + stopw"
   ]
  },
  {
   "cell_type": "code",
   "execution_count": 15,
   "metadata": {},
   "outputs": [],
   "source": [
    "import string\n",
    "from nltk.corpus import stopwords\n",
    "import re\n",
    "\n",
    "def remove_stops(text, stops):\n",
    "    #uses regex to remove all AC numbers\n",
    "    text1 = re.sub(r\"[a-zA-Z][a-zA-Z]\\d\\d[aA-zZ][aA-zZ]\", \"\", text)\n",
    "    text2 = re.sub(r\"[a-zA-Z][a-zA-Z][a-zA-Z]\\d\\d[aA-zZ][aA-zZ]\", \"\", text1)\n",
    "    text3 = re.sub(r\"os/as\", \"\", text2)\n",
    "    text4 = re.sub(r\"Distrito Federal\", \"\", text3)\n",
    "    text5 = re.sub(r\"Minas Gerais\", \"\", text4)\n",
    "    text6 = re.sub(r\"Santa Catarina\", \"\", text5)\n",
    "    text7 = re.sub(r\"Pernambuco\", \"\", text6)\n",
    "    text8 = re.sub(r\"[a-zA-Z][a-zA-Z][a-zA-Z][a-zA-Z]\\d\\d[aA-zZ][aA-zZ]\", \"\", text7)\n",
    "    text9 = re.sub(r\"Secretaria de\", \"\", text8)\n",
    "    text10 = re.sub(r\"BNCC\", \"\", text9)\n",
    "    text11 = re.sub(r\"[a-zA-Z]/[a-zA-Z]\", \"\", text10)\n",
    "    text12 = re.sub(r\"ensino fundamental\", \"\", text11)\n",
    "    text13 = re.sub(r\"ensino médio\", \"\", text12)\n",
    "    text14 = re.sub(r\"Ensino fundamental\", \"\", text13)\n",
    "    text15 = re.sub(r\"Ensino médio\", \"\", text14)\n",
    "    text16 = re.sub(r\"Ensino Fundamental\", \"\", text15)\n",
    "    text17 = re.sub(r\"Ensino Médio\", \"\", text16)\n",
    "    text18 = re.sub(r\"ensino\", \"\", text17)\n",
    "    text19 = re.sub(r\"ensino\", \"\", text18)   \n",
    "    \n",
    "    #removes all stop words, including months\n",
    "    words = text18.split()\n",
    "    final = []\n",
    "    for word in words:\n",
    "        if word not in stops:\n",
    "            final.append(word)\n",
    "            \n",
    "    #reassembles the text without stop words\n",
    "    final = \" \".join(final)\n",
    "    \n",
    "    #removes all punctuation\n",
    "    final = final.translate(str.maketrans(\"\", \"\", string.punctuation))\n",
    "    \n",
    "    #removes all numbers\n",
    "    final = \"\".join([i for i in final if not i.isdigit()])\n",
    "    \n",
    "    #eliminates double white spaces\n",
    "    while \"  \" in final:\n",
    "        final = final.replace(\"  \", \" \")\n",
    "    return (final)\n",
    "\n",
    "def clean_docs(docs):\n",
    "       \n",
    "    #empty new list to store the cleaned docs\n",
    "    final = []\n",
    "    \n",
    "    #iterate over all docs and cleans them to be a\n",
    "    #single sentence with no unwanted words\n",
    "    for doc in docs:\n",
    "        clean_doc = remove_stops(doc, stops)\n",
    "        final.append(clean_doc)\n",
    "    \n",
    "    return(final)"
   ]
  },
  {
   "cell_type": "code",
   "execution_count": 16,
   "metadata": {},
   "outputs": [],
   "source": [
    "cleaned_docs = clean_docs(descriptions)"
   ]
  },
  {
   "cell_type": "code",
   "execution_count": 17,
   "metadata": {},
   "outputs": [],
   "source": [
    "filtered_sentence = [w for w in cleaned_docs if not w.lower() in stops]\n",
    " \n",
    "filtered_sentence = []\n",
    " \n",
    "for w in cleaned_docs:\n",
    "    if w not in stops:\n",
    "        filtered_sentence.append(w)"
   ]
  },
  {
   "cell_type": "code",
   "execution_count": 18,
   "metadata": {},
   "outputs": [],
   "source": [
    "cleaned_docs = filtered_sentence"
   ]
  },
  {
   "cell_type": "code",
   "execution_count": 19,
   "metadata": {},
   "outputs": [],
   "source": [
    "# A lot of this section comes from the Scikit Learn documentation and various blogs including the following:\n",
    "#https://towardsdatascience.com/applying-machine-learning-to-classify-an-unsupervised-text-document-e7bb6265f52\n",
    "from sklearn.feature_extraction.text import TfidfVectorizer\n",
    "from sklearn.cluster import KMeans"
   ]
  },
  {
   "cell_type": "code",
   "execution_count": 20,
   "metadata": {},
   "outputs": [],
   "source": [
    "vectorizer = TfidfVectorizer(lowercase=True, max_df = 6, min_df = 2, ngram_range = (2,2))"
   ]
  },
  {
   "cell_type": "code",
   "execution_count": 21,
   "metadata": {},
   "outputs": [],
   "source": [
    "vectors = vectorizer.fit_transform(cleaned_docs)"
   ]
  },
  {
   "cell_type": "code",
   "execution_count": 22,
   "metadata": {},
   "outputs": [
    {
     "data": {
      "text/html": [
       "<div>\n",
       "<style scoped>\n",
       "    .dataframe tbody tr th:only-of-type {\n",
       "        vertical-align: middle;\n",
       "    }\n",
       "\n",
       "    .dataframe tbody tr th {\n",
       "        vertical-align: top;\n",
       "    }\n",
       "\n",
       "    .dataframe thead th {\n",
       "        text-align: right;\n",
       "    }\n",
       "</style>\n",
       "<table border=\"1\" class=\"dataframe\">\n",
       "  <thead>\n",
       "    <tr style=\"text-align: right;\">\n",
       "      <th></th>\n",
       "      <th>abaixar apresentar</th>\n",
       "      <th>abaixar competência</th>\n",
       "      <th>abaixar médio</th>\n",
       "      <th>abaixar possibilidade</th>\n",
       "      <th>abaixar quadro</th>\n",
       "      <th>abaixo listado</th>\n",
       "      <th>abandonar escolar</th>\n",
       "      <th>abarcar aspecto</th>\n",
       "      <th>abarcar complexidade</th>\n",
       "      <th>abarcar múltiplo</th>\n",
       "      <th>...</th>\n",
       "      <th>único instituição</th>\n",
       "      <th>único modelar</th>\n",
       "      <th>único modo</th>\n",
       "      <th>único respostar</th>\n",
       "      <th>único saúde</th>\n",
       "      <th>único ser</th>\n",
       "      <th>único temer</th>\n",
       "      <th>único viés</th>\n",
       "      <th>útil análise</th>\n",
       "      <th>útil sistematização</th>\n",
       "    </tr>\n",
       "  </thead>\n",
       "  <tbody>\n",
       "    <tr>\n",
       "      <th>0</th>\n",
       "      <td>0.000000</td>\n",
       "      <td>0.000000</td>\n",
       "      <td>0.000000</td>\n",
       "      <td>0.000000</td>\n",
       "      <td>0.000000</td>\n",
       "      <td>0.000000</td>\n",
       "      <td>0.006511</td>\n",
       "      <td>0.000000</td>\n",
       "      <td>0.000000</td>\n",
       "      <td>0.000000</td>\n",
       "      <td>...</td>\n",
       "      <td>0.006511</td>\n",
       "      <td>0.000000</td>\n",
       "      <td>0.000000</td>\n",
       "      <td>0.000000</td>\n",
       "      <td>0.000000</td>\n",
       "      <td>0.006511</td>\n",
       "      <td>0.000000</td>\n",
       "      <td>0.000000</td>\n",
       "      <td>0.000000</td>\n",
       "      <td>0.006511</td>\n",
       "    </tr>\n",
       "    <tr>\n",
       "      <th>1</th>\n",
       "      <td>0.000000</td>\n",
       "      <td>0.000000</td>\n",
       "      <td>0.000000</td>\n",
       "      <td>0.000000</td>\n",
       "      <td>0.000000</td>\n",
       "      <td>0.000000</td>\n",
       "      <td>0.000000</td>\n",
       "      <td>0.000000</td>\n",
       "      <td>0.008681</td>\n",
       "      <td>0.000000</td>\n",
       "      <td>...</td>\n",
       "      <td>0.008681</td>\n",
       "      <td>0.000000</td>\n",
       "      <td>0.000000</td>\n",
       "      <td>0.000000</td>\n",
       "      <td>0.000000</td>\n",
       "      <td>0.000000</td>\n",
       "      <td>0.000000</td>\n",
       "      <td>0.000000</td>\n",
       "      <td>0.000000</td>\n",
       "      <td>0.000000</td>\n",
       "    </tr>\n",
       "    <tr>\n",
       "      <th>2</th>\n",
       "      <td>0.000000</td>\n",
       "      <td>0.000000</td>\n",
       "      <td>0.000000</td>\n",
       "      <td>0.000000</td>\n",
       "      <td>0.000000</td>\n",
       "      <td>0.000000</td>\n",
       "      <td>0.000000</td>\n",
       "      <td>0.000000</td>\n",
       "      <td>0.000000</td>\n",
       "      <td>0.000000</td>\n",
       "      <td>...</td>\n",
       "      <td>0.000000</td>\n",
       "      <td>0.000000</td>\n",
       "      <td>0.000000</td>\n",
       "      <td>0.000000</td>\n",
       "      <td>0.000000</td>\n",
       "      <td>0.000000</td>\n",
       "      <td>0.000000</td>\n",
       "      <td>0.000000</td>\n",
       "      <td>0.000000</td>\n",
       "      <td>0.000000</td>\n",
       "    </tr>\n",
       "    <tr>\n",
       "      <th>3</th>\n",
       "      <td>0.000000</td>\n",
       "      <td>0.000000</td>\n",
       "      <td>0.000000</td>\n",
       "      <td>0.000000</td>\n",
       "      <td>0.000000</td>\n",
       "      <td>0.000000</td>\n",
       "      <td>0.000000</td>\n",
       "      <td>0.000000</td>\n",
       "      <td>0.000000</td>\n",
       "      <td>0.000000</td>\n",
       "      <td>...</td>\n",
       "      <td>0.000000</td>\n",
       "      <td>0.000000</td>\n",
       "      <td>0.000000</td>\n",
       "      <td>0.001892</td>\n",
       "      <td>0.000000</td>\n",
       "      <td>0.000000</td>\n",
       "      <td>0.001892</td>\n",
       "      <td>0.000000</td>\n",
       "      <td>0.000000</td>\n",
       "      <td>0.000000</td>\n",
       "    </tr>\n",
       "    <tr>\n",
       "      <th>4</th>\n",
       "      <td>0.006140</td>\n",
       "      <td>0.004093</td>\n",
       "      <td>0.002047</td>\n",
       "      <td>0.002047</td>\n",
       "      <td>0.004093</td>\n",
       "      <td>0.000000</td>\n",
       "      <td>0.000000</td>\n",
       "      <td>0.002047</td>\n",
       "      <td>0.000000</td>\n",
       "      <td>0.002047</td>\n",
       "      <td>...</td>\n",
       "      <td>0.000000</td>\n",
       "      <td>0.001790</td>\n",
       "      <td>0.000000</td>\n",
       "      <td>0.002047</td>\n",
       "      <td>0.000000</td>\n",
       "      <td>0.004093</td>\n",
       "      <td>0.000000</td>\n",
       "      <td>0.002047</td>\n",
       "      <td>0.000000</td>\n",
       "      <td>0.004093</td>\n",
       "    </tr>\n",
       "    <tr>\n",
       "      <th>5</th>\n",
       "      <td>0.000000</td>\n",
       "      <td>0.000000</td>\n",
       "      <td>0.001985</td>\n",
       "      <td>0.001985</td>\n",
       "      <td>0.003970</td>\n",
       "      <td>0.001985</td>\n",
       "      <td>0.000000</td>\n",
       "      <td>0.000000</td>\n",
       "      <td>0.000000</td>\n",
       "      <td>0.001985</td>\n",
       "      <td>...</td>\n",
       "      <td>0.000000</td>\n",
       "      <td>0.000000</td>\n",
       "      <td>0.001737</td>\n",
       "      <td>0.000000</td>\n",
       "      <td>0.001737</td>\n",
       "      <td>0.000000</td>\n",
       "      <td>0.000000</td>\n",
       "      <td>0.003970</td>\n",
       "      <td>0.000000</td>\n",
       "      <td>0.000000</td>\n",
       "    </tr>\n",
       "    <tr>\n",
       "      <th>6</th>\n",
       "      <td>0.000000</td>\n",
       "      <td>0.000000</td>\n",
       "      <td>0.000000</td>\n",
       "      <td>0.000000</td>\n",
       "      <td>0.000000</td>\n",
       "      <td>0.000000</td>\n",
       "      <td>0.000000</td>\n",
       "      <td>0.001977</td>\n",
       "      <td>0.000000</td>\n",
       "      <td>0.000000</td>\n",
       "      <td>...</td>\n",
       "      <td>0.000000</td>\n",
       "      <td>0.001730</td>\n",
       "      <td>0.001730</td>\n",
       "      <td>0.000000</td>\n",
       "      <td>0.005189</td>\n",
       "      <td>0.000000</td>\n",
       "      <td>0.000000</td>\n",
       "      <td>0.000000</td>\n",
       "      <td>0.001977</td>\n",
       "      <td>0.000000</td>\n",
       "    </tr>\n",
       "    <tr>\n",
       "      <th>7</th>\n",
       "      <td>0.000785</td>\n",
       "      <td>0.000785</td>\n",
       "      <td>0.000000</td>\n",
       "      <td>0.000000</td>\n",
       "      <td>0.000000</td>\n",
       "      <td>0.000785</td>\n",
       "      <td>0.001571</td>\n",
       "      <td>0.000000</td>\n",
       "      <td>0.000785</td>\n",
       "      <td>0.000000</td>\n",
       "      <td>...</td>\n",
       "      <td>0.000000</td>\n",
       "      <td>0.000000</td>\n",
       "      <td>0.000687</td>\n",
       "      <td>0.000000</td>\n",
       "      <td>0.006871</td>\n",
       "      <td>0.000000</td>\n",
       "      <td>0.000785</td>\n",
       "      <td>0.000000</td>\n",
       "      <td>0.000785</td>\n",
       "      <td>0.000000</td>\n",
       "    </tr>\n",
       "    <tr>\n",
       "      <th>8</th>\n",
       "      <td>0.000000</td>\n",
       "      <td>0.000000</td>\n",
       "      <td>0.000000</td>\n",
       "      <td>0.000000</td>\n",
       "      <td>0.000000</td>\n",
       "      <td>0.000000</td>\n",
       "      <td>0.000000</td>\n",
       "      <td>0.000000</td>\n",
       "      <td>0.000000</td>\n",
       "      <td>0.000000</td>\n",
       "      <td>...</td>\n",
       "      <td>0.000000</td>\n",
       "      <td>0.000000</td>\n",
       "      <td>0.000000</td>\n",
       "      <td>0.000000</td>\n",
       "      <td>0.000000</td>\n",
       "      <td>0.000000</td>\n",
       "      <td>0.000000</td>\n",
       "      <td>0.000000</td>\n",
       "      <td>0.000000</td>\n",
       "      <td>0.000000</td>\n",
       "    </tr>\n",
       "    <tr>\n",
       "      <th>9</th>\n",
       "      <td>0.000000</td>\n",
       "      <td>0.000000</td>\n",
       "      <td>0.000000</td>\n",
       "      <td>0.000000</td>\n",
       "      <td>0.000000</td>\n",
       "      <td>0.000000</td>\n",
       "      <td>0.000000</td>\n",
       "      <td>0.000000</td>\n",
       "      <td>0.000000</td>\n",
       "      <td>0.000000</td>\n",
       "      <td>...</td>\n",
       "      <td>0.000000</td>\n",
       "      <td>0.008286</td>\n",
       "      <td>0.000000</td>\n",
       "      <td>0.000000</td>\n",
       "      <td>0.000000</td>\n",
       "      <td>0.000000</td>\n",
       "      <td>0.000000</td>\n",
       "      <td>0.000000</td>\n",
       "      <td>0.000000</td>\n",
       "      <td>0.000000</td>\n",
       "    </tr>\n",
       "  </tbody>\n",
       "</table>\n",
       "<p>10 rows × 51184 columns</p>\n",
       "</div>"
      ],
      "text/plain": [
       "   abaixar apresentar  abaixar competência  abaixar médio  \\\n",
       "0            0.000000             0.000000       0.000000   \n",
       "1            0.000000             0.000000       0.000000   \n",
       "2            0.000000             0.000000       0.000000   \n",
       "3            0.000000             0.000000       0.000000   \n",
       "4            0.006140             0.004093       0.002047   \n",
       "5            0.000000             0.000000       0.001985   \n",
       "6            0.000000             0.000000       0.000000   \n",
       "7            0.000785             0.000785       0.000000   \n",
       "8            0.000000             0.000000       0.000000   \n",
       "9            0.000000             0.000000       0.000000   \n",
       "\n",
       "   abaixar possibilidade  abaixar quadro  abaixo listado  abandonar escolar  \\\n",
       "0               0.000000        0.000000        0.000000           0.006511   \n",
       "1               0.000000        0.000000        0.000000           0.000000   \n",
       "2               0.000000        0.000000        0.000000           0.000000   \n",
       "3               0.000000        0.000000        0.000000           0.000000   \n",
       "4               0.002047        0.004093        0.000000           0.000000   \n",
       "5               0.001985        0.003970        0.001985           0.000000   \n",
       "6               0.000000        0.000000        0.000000           0.000000   \n",
       "7               0.000000        0.000000        0.000785           0.001571   \n",
       "8               0.000000        0.000000        0.000000           0.000000   \n",
       "9               0.000000        0.000000        0.000000           0.000000   \n",
       "\n",
       "   abarcar aspecto  abarcar complexidade  abarcar múltiplo  ...  \\\n",
       "0         0.000000              0.000000          0.000000  ...   \n",
       "1         0.000000              0.008681          0.000000  ...   \n",
       "2         0.000000              0.000000          0.000000  ...   \n",
       "3         0.000000              0.000000          0.000000  ...   \n",
       "4         0.002047              0.000000          0.002047  ...   \n",
       "5         0.000000              0.000000          0.001985  ...   \n",
       "6         0.001977              0.000000          0.000000  ...   \n",
       "7         0.000000              0.000785          0.000000  ...   \n",
       "8         0.000000              0.000000          0.000000  ...   \n",
       "9         0.000000              0.000000          0.000000  ...   \n",
       "\n",
       "   único instituição  único modelar  único modo  único respostar  único saúde  \\\n",
       "0           0.006511       0.000000    0.000000         0.000000     0.000000   \n",
       "1           0.008681       0.000000    0.000000         0.000000     0.000000   \n",
       "2           0.000000       0.000000    0.000000         0.000000     0.000000   \n",
       "3           0.000000       0.000000    0.000000         0.001892     0.000000   \n",
       "4           0.000000       0.001790    0.000000         0.002047     0.000000   \n",
       "5           0.000000       0.000000    0.001737         0.000000     0.001737   \n",
       "6           0.000000       0.001730    0.001730         0.000000     0.005189   \n",
       "7           0.000000       0.000000    0.000687         0.000000     0.006871   \n",
       "8           0.000000       0.000000    0.000000         0.000000     0.000000   \n",
       "9           0.000000       0.008286    0.000000         0.000000     0.000000   \n",
       "\n",
       "   único ser  único temer  único viés  útil análise  útil sistematização  \n",
       "0   0.006511     0.000000    0.000000      0.000000             0.006511  \n",
       "1   0.000000     0.000000    0.000000      0.000000             0.000000  \n",
       "2   0.000000     0.000000    0.000000      0.000000             0.000000  \n",
       "3   0.000000     0.001892    0.000000      0.000000             0.000000  \n",
       "4   0.004093     0.000000    0.002047      0.000000             0.004093  \n",
       "5   0.000000     0.000000    0.003970      0.000000             0.000000  \n",
       "6   0.000000     0.000000    0.000000      0.001977             0.000000  \n",
       "7   0.000000     0.000785    0.000000      0.000785             0.000000  \n",
       "8   0.000000     0.000000    0.000000      0.000000             0.000000  \n",
       "9   0.000000     0.000000    0.000000      0.000000             0.000000  \n",
       "\n",
       "[10 rows x 51184 columns]"
      ]
     },
     "execution_count": 22,
     "metadata": {},
     "output_type": "execute_result"
    }
   ],
   "source": [
    "tfidf_df = pd.DataFrame(vectors.todense(), columns = vectorizer.get_feature_names())\n",
    "tfidf_df"
   ]
  },
  {
   "cell_type": "code",
   "execution_count": 23,
   "metadata": {},
   "outputs": [
    {
     "data": {
      "text/plain": [
       "currículo referência          0.894917\n",
       "mato grosso                   0.779739\n",
       "base ensino                   0.736656\n",
       "ano semestre                  0.644570\n",
       "currículo base                0.552435\n",
       "gêneros estudar               0.428183\n",
       "referência rede               0.391271\n",
       "eixos temáticos               0.270346\n",
       "tecnologias ensino            0.248588\n",
       "carga horária                 0.236235\n",
       "oficial união                 0.218330\n",
       "diário oficial                0.211714\n",
       "união brasília                0.211714\n",
       "longo unidade                 0.191033\n",
       "pessoal individual            0.188815\n",
       "curricular ementa             0.185858\n",
       "texto atos                    0.171451\n",
       "campo jornalístico            0.165191\n",
       "curricular avaliação          0.164983\n",
       "mundo ideologia               0.163658\n",
       "posicionamento responsável    0.163658\n",
       "temer visão                   0.163658\n",
       "réplica posicionamento        0.159761\n",
       "semanal carga                 0.156817\n",
       "ensino fundamental            0.151320\n",
       "planos curso                  0.150268\n",
       "organizador curricular        0.146974\n",
       "veicular texto                0.146974\n",
       "ideologia veicular            0.146974\n",
       "responsável temer             0.146974\n",
       "campo artístico               0.146867\n",
       "atos linguagem                0.136032\n",
       "habilidades gerais            0.134982\n",
       "horária anual                 0.133723\n",
       "planejamento produção         0.132868\n",
       "apreciação avaliação          0.128588\n",
       "docente matemática            0.128519\n",
       "língua espanhola              0.127344\n",
       "cultural réplica              0.127101\n",
       "elementos linguagem           0.127101\n",
       "perfil professor              0.126777\n",
       "ano ensino                    0.123393\n",
       "habilidade unidade            0.122362\n",
       "jornalístico midiático        0.119236\n",
       "político texto                0.118979\n",
       "trilha aprofundamento         0.118700\n",
       "instituição educacional       0.115122\n",
       "produção edição               0.113953\n",
       "referência língua             0.113901\n",
       "avaliação aspecto             0.113887\n",
       "dtype: float64"
      ]
     },
     "execution_count": 23,
     "metadata": {},
     "output_type": "execute_result"
    }
   ],
   "source": [
    "tfidf_df.max().sort_values(ascending = False).head(n = 50)"
   ]
  },
  {
   "cell_type": "code",
   "execution_count": 24,
   "metadata": {},
   "outputs": [],
   "source": [
    "feature_names = vectorizer.get_feature_names()"
   ]
  },
  {
   "cell_type": "code",
   "execution_count": 25,
   "metadata": {},
   "outputs": [],
   "source": [
    "dense = vectors.todense()"
   ]
  },
  {
   "cell_type": "code",
   "execution_count": 26,
   "metadata": {},
   "outputs": [],
   "source": [
    "denselist = dense.tolist()"
   ]
  },
  {
   "cell_type": "code",
   "execution_count": 27,
   "metadata": {},
   "outputs": [],
   "source": [
    "all_keywords = []\n",
    "for description in denselist:\n",
    "    x=0\n",
    "    keywords = []\n",
    "    for word in description:\n",
    "        if word > 0:\n",
    "            keywords.append(feature_names[x])\n",
    "        x=x+1\n",
    "    all_keywords.append(keywords)"
   ]
  },
  {
   "cell_type": "code",
   "execution_count": 28,
   "metadata": {},
   "outputs": [],
   "source": [
    "true_k = 3\n",
    "\n",
    "model = KMeans(n_clusters=true_k, init=\"k-means++\", max_iter=100, n_init=1)"
   ]
  },
  {
   "cell_type": "code",
   "execution_count": 29,
   "metadata": {},
   "outputs": [],
   "source": [
    "model.fit(vectors)\n",
    "\n",
    "order_centroids = model.cluster_centers_.argsort()[:, ::-1]\n",
    "terms = vectorizer.get_feature_names()"
   ]
  },
  {
   "cell_type": "code",
   "execution_count": 30,
   "metadata": {},
   "outputs": [
    {
     "name": "stdout",
     "output_type": "stream",
     "text": [
      "Cluster 0\n",
      "currículo referência\n",
      "gêneros estudar\n",
      "referência rede\n",
      "eixos temáticos\n",
      "tecnologias ensino\n",
      "carga horária\n",
      "oficial união\n",
      "união brasília\n",
      "diário oficial\n",
      "longo unidade\n",
      "\n",
      "Cluster 1\n",
      "currículo referência\n",
      "mato grosso\n",
      "ano semestre\n",
      "texto atos\n",
      "organizador curricular\n",
      "atos linguagem\n",
      "temer visão\n",
      "mundo ideologia\n",
      "posicionamento responsável\n",
      "pessoal individual\n",
      "\n",
      "Cluster 2\n",
      "base ensino\n",
      "currículo base\n",
      "trilhar aprofundamento\n",
      "elaboração autor\n",
      "aula objetivos\n",
      "acesso out\n",
      "aula aula\n",
      "fonte elaboração\n",
      "acesso nov\n",
      "proposta curricular\n",
      "\n"
     ]
    }
   ],
   "source": [
    "i = 0\n",
    "for cluster in order_centroids:\n",
    "    print (f\"Cluster {i}\")\n",
    "    for keyword in cluster[0:10]:\n",
    "        print (terms[keyword])\n",
    "    print (\"\")\n",
    "    i=i+1"
   ]
  },
  {
   "cell_type": "code",
   "execution_count": 31,
   "metadata": {},
   "outputs": [],
   "source": [
    "#A lot of this section was obtained from https://stackoverflow.com/questions/27494202/how-do-i-visualize-data-points-of-tf-idf-vectors-for-kmeans-clustering\n",
    "\n",
    "import matplotlib.pyplot as plt\n",
    "from sklearn.decomposition import PCA"
   ]
  },
  {
   "cell_type": "code",
   "execution_count": 32,
   "metadata": {},
   "outputs": [],
   "source": [
    "kmean_indices = model.fit_predict(vectors)\n",
    "\n",
    "pca = PCA(n_components=2)\n",
    "scatter_plot_points = pca.fit_transform(vectors.toarray())"
   ]
  },
  {
   "cell_type": "code",
   "execution_count": 33,
   "metadata": {},
   "outputs": [],
   "source": [
    "\n",
    "\n",
    "colors = [\"r\", \"b\", \"m\", \"y\", \"c\"]\n",
    "\n",
    "x_axis = [o[0] for o in scatter_plot_points]\n",
    "y_axis = [o[1] for o in scatter_plot_points]\n",
    "\n"
   ]
  },
  {
   "cell_type": "code",
   "execution_count": 34,
   "metadata": {},
   "outputs": [
    {
     "data": {
      "text/plain": [
       "<matplotlib.collections.PathCollection at 0x18682d1b550>"
      ]
     },
     "execution_count": 34,
     "metadata": {},
     "output_type": "execute_result"
    },
    {
     "data": {
      "image/png": "[encoded data removed]",
      "text/plain": [
       "<Figure size 720x720 with 1 Axes>"
      ]
     },
     "metadata": {
      "needs_background": "light"
     },
     "output_type": "display_data"
    }
   ],
   "source": [
    "fig, ax = plt.subplots(figsize=(10, 10))\n",
    "ax.scatter(x_axis, y_axis, c=[colors[d] for d in kmean_indices])"
   ]
  },
  {
   "cell_type": "code",
   "execution_count": 35,
   "metadata": {},
   "outputs": [
    {
     "data": {
      "image/png": "[encoded data removed]",
      "text/plain": [
       "<Figure size 720x720 with 1 Axes>"
      ]
     },
     "metadata": {
      "needs_background": "light"
     },
     "output_type": "display_data"
    }
   ],
   "source": [
    "fig, ax = plt.subplots(figsize=(10, 10))\n",
    "ax.scatter(x_axis, y_axis, c=[colors[d] for d in kmean_indices])\n",
    "for i, txt in enumerate(names):\n",
    "    ax.annotate(txt, (x_axis[i], y_axis[i]))"
   ]
  },
  {
   "cell_type": "code",
   "execution_count": 60,
   "metadata": {},
   "outputs": [],
   "source": [
    "a = [\n",
    "2 + 2 + 1 + 1,\n",
    "2 - 2 + 1 + 1,\n",
    "2 + 1 + 1 + 1,\n",
    "2 - 1 + 1 + 1,\n",
    "1 + 2 + 1 + 1,\n",
    "1 - 2 + 1 + 1,\n",
    "1 + 1 + 1 + 1,\n",
    "1 - 1 + 1 + 1,\n",
    "2 + 2 + 1 + 2,\n",
    "2 - 2 + 1 + 2,\n",
    "2 + 1 + 1 + 2,\n",
    "2 - 1 + 1 + 2,\n",
    "1 + 2 + 1 + 2,\n",
    "1 - 2 + 1 + 2,\n",
    "1 + 1 + 1 + 2,\n",
    "1 - 1 + 1 + 2,\n",
    "2 + 2 + 1 - 1,\n",
    "2 - 2 + 1 - 1,\n",
    "2 + 1 + 1 - 1,\n",
    "2 - 1 + 1 - 1,\n",
    "1 + 2 + 1 - 1,\n",
    "1 - 2 + 1 - 1,\n",
    "1 + 1 + 1 - 1,\n",
    "1 - 1 + 1 - 1,\n",
    "2 + 2 + 1 - 2,\n",
    "2 - 2 + 1 - 2,\n",
    "2 + 1 + 1 - 2,\n",
    "2 - 1 + 1 - 2,\n",
    "1 + 2 + 1 - 2,\n",
    "1 - 2 + 1 - 2,\n",
    "1 + 1 + 1 - 2,\n",
    "1 - 1 + 1 - 2,\n",
    "2 + 2 + 2 + 1,\n",
    "2 - 2 + 2 + 1,\n",
    "2 + 1 + 2 + 1,\n",
    "2 - 1 + 2 + 1,\n",
    "1 + 2 + 2 + 1,\n",
    "1 - 2 + 2 + 1,\n",
    "1 + 1 + 2 + 1,\n",
    "1 - 1 + 2 + 1,\n",
    "2 + 2 + 2 + 2,\n",
    "2 - 2 + 2 + 2,\n",
    "2 + 1 + 2 + 2,\n",
    "2 - 1 + 2 + 2,\n",
    "1 + 2 + 2 + 2,\n",
    "1 - 2 + 2 + 2,\n",
    "1 + 1 + 2 + 2,\n",
    "1 - 1 + 2 + 2,\n",
    "2 + 2 + 2 - 1,\n",
    "2 - 2 + 2 - 1,\n",
    "2 + 1 + 2 - 1,\n",
    "2 - 1 + 2 - 1,\n",
    "1 + 2 + 2 - 1,\n",
    "1 - 2 + 2 - 1,\n",
    "1 + 1 + 2 - 1,\n",
    "1 - 1 + 2 - 1,\n",
    "2 + 2 + 2 - 2,\n",
    "2 - 2 + 2 - 2,\n",
    "2 + 1 + 2 - 2,\n",
    "2 - 1 + 2 - 2,\n",
    "1 + 2 + 2 - 2,\n",
    "1 - 2 + 2 - 2,\n",
    "1 + 1 + 2 - 2,\n",
    "1 - 1 + 2 - 2,\n",
    "\n",
    "2 + 2 - 1 + 1,\n",
    "2 - 2 - 1 + 1,\n",
    "2 + 1 - 1 + 1,\n",
    "2 - 1 - 1 + 1,\n",
    "1 + 2 - 1 + 1,\n",
    "1 - 2 - 1 + 1,\n",
    "1 + 1 - 1 + 1,\n",
    "1 - 1 - 1 + 1,\n",
    "2 + 2 - 1 + 2,\n",
    "2 - 2 - 1 + 2,\n",
    "2 + 1 - 1 + 2,\n",
    "2 - 1 - 1 + 2,\n",
    "1 + 2 - 1 + 2,\n",
    "1 - 2 - 1 + 2,\n",
    "1 + 1 - 1 + 2,\n",
    "1 - 1 - 1 + 2,\n",
    "2 + 2 - 1 - 1,\n",
    "2 - 2 - 1 - 1,\n",
    "2 + 1 - 1 - 1,\n",
    "2 - 1 - 1 - 1,\n",
    "1 + 2 - 1 - 1,\n",
    "1 - 2 - 1 - 1,\n",
    "1 + 1 - 1 - 1,\n",
    "1 - 1 - 1 - 1,\n",
    "2 + 2 - 1 - 2,\n",
    "2 - 2 - 1 - 2,\n",
    "2 + 1 - 1 - 2,\n",
    "2 - 1 - 1 - 2,\n",
    "1 + 2 - 1 - 2,\n",
    "1 - 2 - 1 - 2,\n",
    "1 + 1 - 1 - 2,\n",
    "1 - 1 - 1 - 2,\n",
    "2 + 2 - 2 + 1,\n",
    "2 - 2 - 2 + 1,\n",
    "2 + 1 - 2 + 1,\n",
    "2 - 1 - 2 + 1,\n",
    "1 + 2 - 2 + 1,\n",
    "1 - 2 - 2 + 1,\n",
    "1 + 1 - 2 + 1,\n",
    "1 - 1 - 2 + 1,\n",
    "2 + 2 - 2 + 2,\n",
    "2 - 2 - 2 + 2,\n",
    "2 + 1 - 2 + 2,\n",
    "2 - 1 - 2 + 2,\n",
    "1 + 2 - 2 + 2,\n",
    "1 - 2 - 2 + 2,\n",
    "1 + 1 - 2 + 2,\n",
    "1 - 1 - 2 + 2,\n",
    "2 + 2 - 2 - 1,\n",
    "2 - 2 - 2 - 1,\n",
    "2 + 1 - 2 - 1,\n",
    "2 - 1 - 2 - 1,\n",
    "1 + 2 - 2 - 1,\n",
    "1 - 2 - 2 - 1,\n",
    "1 + 1 - 2 - 1,\n",
    "1 - 1 - 2 - 1,\n",
    "2 + 2 - 2 - 2,\n",
    "2 - 2 - 2 - 2,\n",
    "2 + 1 - 2 - 2,\n",
    "2 - 1 - 2 - 2,\n",
    "1 + 2 - 2 - 2,\n",
    "1 - 2 - 2 - 2,\n",
    "1 + 1 - 2 - 2,\n",
    "1 - 1 - 2 - 2\n",
    "] \n",
    " \n",
    " \n"
   ]
  },
  {
   "cell_type": "code",
   "execution_count": 48,
   "metadata": {},
   "outputs": [],
   "source": [
    "import collections"
   ]
  },
  {
   "cell_type": "code",
   "execution_count": 62,
   "metadata": {},
   "outputs": [
    {
     "data": {
      "text/plain": [
       "[(3, 18),\n",
       " (0, 18),\n",
       " (2, 15),\n",
       " (1, 15),\n",
       " (4, 13),\n",
       " (-1, 13),\n",
       " (5, 7),\n",
       " (-2, 7),\n",
       " (6, 6),\n",
       " (-3, 6),\n",
       " (7, 4),\n",
       " (-4, 4),\n",
       " (8, 1),\n",
       " (-5, 1)]"
      ]
     },
     "execution_count": 62,
     "metadata": {},
     "output_type": "execute_result"
    }
   ],
   "source": [
    "counter = collections.Counter(a)\n",
    "counter.most_common()"
   ]
  }
 ],
 "metadata": {
  "kernelspec": {
   "display_name": "Python 3 (ipykernel)",
   "language": "python",
   "name": "python3"
  },
  "language_info": {
   "codemirror_mode": {
    "name": "ipython",
    "version": 3
   },
   "file_extension": ".py",
   "mimetype": "text/x-python",
   "name": "python",
   "nbconvert_exporter": "python",
   "pygments_lexer": "ipython3",
   "version": "3.9.7"
  },
  "widgets": {
   "application/vnd.jupyter.widget-state+json": {
    "state": {},
    "version_major": 2,
    "version_minor": 0
   }
  }
 },
 "nbformat": 4,
 "nbformat_minor": 4
}
